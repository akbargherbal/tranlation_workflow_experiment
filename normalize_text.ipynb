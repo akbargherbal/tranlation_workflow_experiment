{
 "cells": [
  {
   "cell_type": "code",
   "execution_count": 61,
   "metadata": {},
   "outputs": [],
   "source": [
    "import os"
   ]
  },
  {
   "cell_type": "code",
   "execution_count": 16,
   "metadata": {},
   "outputs": [],
   "source": [
    "from itertools import chain"
   ]
  },
  {
   "cell_type": "code",
   "execution_count": 1,
   "metadata": {},
   "outputs": [],
   "source": [
    "import regex as re"
   ]
  },
  {
   "cell_type": "code",
   "execution_count": 2,
   "metadata": {},
   "outputs": [],
   "source": [
    "def get_ngram(word, n):\n",
    "    '''\n",
    "    Get all possible ngram of a string;\n",
    "    For example:\n",
    "    string = 'abcdef'\n",
    "    possible ngrams:\n",
    "    ['abc', 'bcd', 'cde', 'def']\n",
    "    '''\n",
    "    \n",
    "    pat_1 = fr'(?=(\\w{{{n}}}))'\n",
    "    pat_1 = re.compile(pat_1)\n",
    "    \n",
    "    result = re.findall(pat_1, word)\n",
    "    \n",
    "    return result"
   ]
  },
  {
   "cell_type": "code",
   "execution_count": 3,
   "metadata": {},
   "outputs": [],
   "source": [
    "test = \"Hello my name is Akbar\""
   ]
  },
  {
   "cell_type": "code",
   "execution_count": 5,
   "metadata": {},
   "outputs": [],
   "source": [
    "with open('Quran_Aya_Per_Line.txt', encoding='utf-8') as q:\n",
    "    quran = [line.strip() for line in q.readlines()]"
   ]
  },
  {
   "cell_type": "code",
   "execution_count": 9,
   "metadata": {},
   "outputs": [],
   "source": [
    "test = quran[:7]"
   ]
  },
  {
   "cell_type": "code",
   "execution_count": 12,
   "metadata": {},
   "outputs": [],
   "source": [
    "list_quran_bigram = [re.findall(r'(?=(\\b\\w+\\s+\\w+\\b))', i) for i in quran]"
   ]
  },
  {
   "cell_type": "code",
   "execution_count": 19,
   "metadata": {},
   "outputs": [],
   "source": [
    "list_quran_bigram = list(chain(*list_quran_bigram))"
   ]
  },
  {
   "cell_type": "code",
   "execution_count": 28,
   "metadata": {},
   "outputs": [],
   "source": [
    "with open('english_to_be_translated.txt', encoding='utf-8') as en:\n",
    "    test = [line.strip() for line in en.readlines()]"
   ]
  },
  {
   "cell_type": "code",
   "execution_count": 29,
   "metadata": {},
   "outputs": [],
   "source": [
    "list_test_bigram = [re.findall(r'(?=(\\b\\w+\\s+\\w+\\b))', i) for i in test]"
   ]
  },
  {
   "cell_type": "code",
   "execution_count": 32,
   "metadata": {},
   "outputs": [],
   "source": [
    "list_test_bigram = [re.findall(r'(?=(\\b\\S+\\s+\\S+\\b))', i) for i in test]"
   ]
  },
  {
   "cell_type": "code",
   "execution_count": 33,
   "metadata": {},
   "outputs": [],
   "source": [
    "list_test_bigram = list(chain(*list_test_bigram))"
   ]
  },
  {
   "cell_type": "code",
   "execution_count": 36,
   "metadata": {},
   "outputs": [
    {
     "data": {
      "text/plain": [
       "['7. Nuisances', '. Nuisances', 'The Tenant']"
      ]
     },
     "execution_count": 36,
     "metadata": {},
     "output_type": "execute_result"
    }
   ],
   "source": [
    "list_test_bigram[:3]"
   ]
  },
  {
   "cell_type": "code",
   "execution_count": 35,
   "metadata": {},
   "outputs": [],
   "source": [
    "en_puncs = \".?!,\\\"\\'/'\""
   ]
  },
  {
   "cell_type": "code",
   "execution_count": 42,
   "metadata": {},
   "outputs": [],
   "source": [
    "def en_clean(word):\n",
    "    '''\n",
    "    given an english word, remove punctuations, excess space and \n",
    "    leave normal letters in lowercase format.\n",
    "    '''\n",
    "    ar_punc_regex = f\"[{''.join(['،', '؛', '؟', '.', '/'])}]\"\n",
    "    word = re.sub(ar_punc_regex, ' ', word)\n",
    "    ar_c = r'[^a-zA-Z\\-\\s]'\n",
    "    word = re.sub(ar_c, '', word)\n",
    "    word = re.sub(r' {2,}', ' ', word)\n",
    "    word = re.sub(r'\\t+', ' ', word)\n",
    "    word = word.strip()\n",
    "    return word.lower()"
   ]
  },
  {
   "cell_type": "code",
   "execution_count": 44,
   "metadata": {},
   "outputs": [],
   "source": [
    "list_test_bigram = [en_clean(bigram) for bigram in list_test_bigram]"
   ]
  },
  {
   "cell_type": "code",
   "execution_count": 45,
   "metadata": {
    "collapsed": true,
    "jupyter": {
     "outputs_hidden": true
    }
   },
   "outputs": [
    {
     "data": {
      "text/plain": [
       "['nuisances',\n",
       " 'nuisances',\n",
       " 'the tenant',\n",
       " 'tenant will',\n",
       " 'will not',\n",
       " 'not do',\n",
       " 'do anything',\n",
       " 'anything on',\n",
       " 'on the',\n",
       " 'the demised',\n",
       " 'demised premises',\n",
       " 'premises which',\n",
       " 'which may',\n",
       " 'may be',\n",
       " 'be illegal',\n",
       " 'illegal or',\n",
       " 'or immoral',\n",
       " 'immoral or',\n",
       " 'or be',\n",
       " 'be noisy',\n",
       " 'noisy noisome',\n",
       " 'noisome',\n",
       " 'noisome noxious',\n",
       " 'noxious',\n",
       " 'noxious dangerous',\n",
       " 'dangerous',\n",
       " 'dangerous or',\n",
       " 'or offensive',\n",
       " 'offensive or',\n",
       " 'or which',\n",
       " 'which may',\n",
       " 'may be',\n",
       " 'be a',\n",
       " 'a nuisance',\n",
       " 'nuisance damage',\n",
       " 'damage',\n",
       " 'damage annoyance',\n",
       " 'annoyance',\n",
       " 'annoyance disturbance',\n",
       " 'disturbance',\n",
       " 'disturbance or',\n",
       " 'or inconvenience',\n",
       " 'inconvenience or',\n",
       " 'or which',\n",
       " 'which may',\n",
       " 'may in',\n",
       " 'in any',\n",
       " 'any way',\n",
       " 'way be',\n",
       " 'be injurious',\n",
       " 'injurious to',\n",
       " 'to the',\n",
       " 'the neighborhood',\n",
       " 'neighborhood or',\n",
       " 'or to',\n",
       " 'to the',\n",
       " 'the public',\n",
       " 'public local',\n",
       " 'local',\n",
       " 'local or',\n",
       " 'or any',\n",
       " 'any other',\n",
       " 'other authorities',\n",
       " 'authorities or',\n",
       " 'or to',\n",
       " 'to the',\n",
       " 'the landlord',\n",
       " 'landlord or',\n",
       " 'or to',\n",
       " 'to any',\n",
       " 'any owners',\n",
       " 'owners tenants',\n",
       " 'tenants',\n",
       " 'tenants or',\n",
       " 'or',\n",
       " 'or occupiers',\n",
       " 'occupiers of',\n",
       " 'of neighboring',\n",
       " 'neighboring property',\n",
       " 'property or',\n",
       " 'or the',\n",
       " 'the financial',\n",
       " 'financial center',\n",
       " 'center or',\n",
       " 'or the',\n",
       " 'the development',\n",
       " 'alienation',\n",
       " 'alienation',\n",
       " 'the tenant',\n",
       " 'tenant will',\n",
       " 'will not',\n",
       " 'not assign',\n",
       " 'assign transfer',\n",
       " 'transfer',\n",
       " 'transfer or',\n",
       " 'or sublet',\n",
       " 'sublet the',\n",
       " 'the demised',\n",
       " 'demised premises',\n",
       " 'premises without',\n",
       " 'without',\n",
       " 'without written',\n",
       " 'written consent',\n",
       " 'consent of',\n",
       " 'of the',\n",
       " 'the landlord',\n",
       " 'landlord the',\n",
       " 'the',\n",
       " 'the landlord',\n",
       " 'landlord may',\n",
       " 'may assign',\n",
       " 'assign sublet',\n",
       " 'sublet',\n",
       " 'sublet or',\n",
       " 'or transfer',\n",
       " 'transfer its',\n",
       " 'its obligations',\n",
       " 'obligations and',\n",
       " 'and benefits',\n",
       " 'benefits under',\n",
       " 'under this',\n",
       " 'this lease',\n",
       " 'lease in',\n",
       " 'in whole',\n",
       " 'whole upon',\n",
       " 'upon providing',\n",
       " 'providing the',\n",
       " 'the tenant',\n",
       " 'tenant with',\n",
       " 'with twenty-eight',\n",
       " 'twenty-eight',\n",
       " '-eight',\n",
       " 'eight',\n",
       " 'days',\n",
       " 'days',\n",
       " 'days prior',\n",
       " 'prior written',\n",
       " 'written notice',\n",
       " 'observe',\n",
       " 'observe',\n",
       " 'observe covenants',\n",
       " 'the tenant',\n",
       " 'tenant will',\n",
       " 'will observe',\n",
       " 'observe and',\n",
       " 'and perform',\n",
       " 'perform all',\n",
       " 'all matters',\n",
       " 'matters contained',\n",
       " 'contained or',\n",
       " 'or referred',\n",
       " 'referred to',\n",
       " 'to in',\n",
       " 'in the',\n",
       " 'the deeds',\n",
       " 'deeds and',\n",
       " 'and documents',\n",
       " 'documents referred',\n",
       " 'referred to',\n",
       " 'to in',\n",
       " 'in this',\n",
       " 'this lease',\n",
       " 'lease and',\n",
       " 'and without',\n",
       " 'without prejudice',\n",
       " 'prejudice to',\n",
       " 'to any',\n",
       " 'any other',\n",
       " 'other rights',\n",
       " 'rights of',\n",
       " 'of the',\n",
       " 'the landlord',\n",
       " 'landlord will',\n",
       " 'will',\n",
       " 'will keep',\n",
       " 'keep the',\n",
       " 'the landlord',\n",
       " 'landlord indemnified',\n",
       " 'indemnified from',\n",
       " 'from and',\n",
       " 'and against',\n",
       " 'against all',\n",
       " 'all losses',\n",
       " 'losses arising',\n",
       " 'arising out',\n",
       " 'out of',\n",
       " 'of a',\n",
       " 'a breach',\n",
       " 'breach or',\n",
       " 'or non-performance',\n",
       " 'non-performance of',\n",
       " '-performance of',\n",
       " 'performance of',\n",
       " 'of any',\n",
       " 'any such',\n",
       " 'such matters',\n",
       " 'indemnity',\n",
       " 'indemnity',\n",
       " 'the tenant',\n",
       " 'tenant will',\n",
       " 'will keep',\n",
       " 'keep the',\n",
       " 'the landlord',\n",
       " 'landlord indemnified',\n",
       " 'indemnified against',\n",
       " 'against all',\n",
       " 'all losses',\n",
       " 'losses arising',\n",
       " 'arising directly',\n",
       " 'directly or',\n",
       " 'or indirectly',\n",
       " 'indirectly out',\n",
       " 'out of',\n",
       " 'of any',\n",
       " 'any act',\n",
       " 'act or',\n",
       " 'or omission',\n",
       " 'omission of',\n",
       " 'of the',\n",
       " 'the tenant',\n",
       " 'tenant or',\n",
       " 'or',\n",
       " 'or any',\n",
       " 'any persons',\n",
       " 'persons in',\n",
       " 'in the',\n",
       " 'the demised',\n",
       " 'demised premises',\n",
       " 'premises expressly',\n",
       " 'expressly or',\n",
       " 'or impliedly',\n",
       " 'impliedly with',\n",
       " 'with the',\n",
       " 'the tenants',\n",
       " 'tenants authority',\n",
       " 's authority',\n",
       " 's authority',\n",
       " 'authority or',\n",
       " 'or',\n",
       " 'or as',\n",
       " 'as a',\n",
       " 'a consequence',\n",
       " 'consequence of',\n",
       " 'of any',\n",
       " 'any breach',\n",
       " 'breach or',\n",
       " 'or non-performance',\n",
       " 'non-performance of',\n",
       " '-performance of',\n",
       " 'performance of',\n",
       " 'of the',\n",
       " 'the covenants',\n",
       " 'covenants conditions',\n",
       " 'conditions',\n",
       " 'conditions and',\n",
       " 'and agreements',\n",
       " 'agreements contained',\n",
       " 'contained in',\n",
       " 'in this',\n",
       " 'this lease',\n",
       " 'lease and',\n",
       " 'and on',\n",
       " 'on the',\n",
       " 'the part',\n",
       " 'part of',\n",
       " 'of the',\n",
       " 'the tenant',\n",
       " 'tenant to',\n",
       " 'to be',\n",
       " 'be observed',\n",
       " 'observed and',\n",
       " 'and performed']"
      ]
     },
     "execution_count": 45,
     "metadata": {},
     "output_type": "execute_result"
    }
   ],
   "source": [
    "list_test_bigram"
   ]
  },
  {
   "cell_type": "code",
   "execution_count": 46,
   "metadata": {},
   "outputs": [
    {
     "data": {
      "text/plain": [
       "['7. Nuisances',\n",
       " 'The Tenant will not do anything on the Demised Premises which may be illegal or immoral or be noisy, noisome, noxious, dangerous or offensive or which may be a nuisance, damage, annoyance, disturbance or inconvenience or which may in any way be injurious to the neighborhood or to the public, local or any other authorities or to the Landlord or to any owners, tenants, or occupiers of Neighboring Property or The Financial Center or the Development.',\n",
       " '8. Alienation',\n",
       " 'The Tenant will not assign, transfer or sublet the Demised Premises, without written consent of the Landlord. The Landlord may assign, sublet or transfer its obligations and benefits under this Lease in whole upon providing the Tenant with twenty-eight (28) days prior written notice.',\n",
       " '9. Observe Covenants',\n",
       " 'The Tenant will observe and perform all matters contained or referred to in the deeds and documents referred to in this Lease and (without prejudice to any other rights of the Landlord) will keep the Landlord indemnified from and against all Losses arising out of a breach or non-performance of any such matters.',\n",
       " '10. Indemnity',\n",
       " 'The Tenant will keep the Landlord indemnified against all Losses arising directly or indirectly out of any act or omission of the Tenant, or any persons in the Demised Premises expressly or impliedly with the Tenant’s authority, or as a consequence of any breach or non-performance of the covenants, conditions and agreements contained in this Lease and on the part of the Tenant to be observed and performed.']"
      ]
     },
     "execution_count": 46,
     "metadata": {},
     "output_type": "execute_result"
    }
   ],
   "source": [
    "test"
   ]
  },
  {
   "cell_type": "code",
   "execution_count": 82,
   "metadata": {},
   "outputs": [],
   "source": [
    "# Generator Function\n",
    "def normalize_text_files(folder):\n",
    "    '''\n",
    "    A generator function that yields lines of cleaned text with no stopwords or nonwords.\n",
    "    '''\n",
    "    ar_punc_regex = f\"[{''.join(['،', '؛', '؟', '.', '/'])}]\"\n",
    "    ar_punc_regex = re.compile(ar_punc_regex)\n",
    "    ar_c = r'[^a-zA-Z\\-\\s]'\n",
    "    ar_c = re.compile(ar_c)\n",
    "    \n",
    "    ##Stopwords Set\n",
    "    stop_words = \"how very nbsp will years year be other only often first how him rather another but he have many three near yours won us to we'll usually ours haven't their couldn't together thing please with through an is been ain within since vi one do much your she's after all iii is't self for could away done thus always some also doing will where and does iv aren wasn than well about a truth till even mrs just get are therefore little didn't yet until me who won't they almost far doesn't in we because third else once enough himself father's such be from while should things when too weren't thoughts speed you've not hadn't less on between without was ii why them here's i ha never v that's yourself each last his being say age any shouldn't if make shall had themselves nor there which herself said her though half it's i'll these viii needn't by so out same were didn am ll myself my give hour now shouldn she you'd way ve vii still keep take no here mustn't cannot indeed our as you'll having under couldn gone you're can yes at theirs i' before long let's whose hers the two nothing few may over whom what wish isn't might des there's again ix mightn't should've hadn given wrong come yourselves shan old wasn't own he's sit this its thousand seen that'll o must what's hasn enter very alone below wouldn aren't x tell it mine love more during don't name those wouldn't hasn't others has every forth then itself further against would into both none mightn did most ourselves or you back ever that\"\n",
    "    stop_words = stop_words.split()\n",
    "    stop_words = set(stop_words)\n",
    "\n",
    "    \n",
    "    list_txt_files = [file for file in os.listdir(folder) if file[-4:].lower()=='.txt']\n",
    "    if list_txt_files:\n",
    "        for file in list_txt_files:\n",
    "            file_abs = os.path.join(os.path.abspath(f'{folder}/'), file)\n",
    "            print(f'Processing {file} ...')\n",
    "            with open(f'{file_abs}', encoding='utf-8') as file_01:\n",
    "                for line in file_01.readlines():\n",
    "                    list_words = []\n",
    "                    for word in line.split():\n",
    "                        word = re.sub(ar_punc_regex, ' ', word)\n",
    "                        word = re.sub(ar_c, '', word)\n",
    "                        word = word.strip()\n",
    "                        word =  word.lower()\n",
    "                        if word not in stop_words:\n",
    "                            list_words.append(word)\n",
    "                    list_words.append('\\n')\n",
    "                    yield ' '.join(list_words).strip()"
   ]
  },
  {
   "cell_type": "code",
   "execution_count": 83,
   "metadata": {},
   "outputs": [],
   "source": [
    "words_gen = normalize_text_files('test_folder/')"
   ]
  },
  {
   "cell_type": "code",
   "execution_count": null,
   "metadata": {},
   "outputs": [],
   "source": []
  },
  {
   "cell_type": "code",
   "execution_count": 84,
   "metadata": {},
   "outputs": [
    {
     "name": "stdout",
     "output_type": "stream",
     "text": [
      "Processing english_to_be_translated.txt ...\n"
     ]
    }
   ],
   "source": [
    "with open('normalized_text_2.txt', mode='w', encoding='utf-8') as new_file:\n",
    "    for line in words_gen:\n",
    "        new_file.write(f\"{line}\\n\")"
   ]
  },
  {
   "cell_type": "code",
   "execution_count": null,
   "metadata": {},
   "outputs": [],
   "source": []
  },
  {
   "cell_type": "code",
   "execution_count": null,
   "metadata": {},
   "outputs": [],
   "source": []
  }
 ],
 "metadata": {
  "kernelspec": {
   "display_name": "Python 3",
   "language": "python",
   "name": "python3"
  },
  "language_info": {
   "codemirror_mode": {
    "name": "ipython",
    "version": 3
   },
   "file_extension": ".py",
   "mimetype": "text/x-python",
   "name": "python",
   "nbconvert_exporter": "python",
   "pygments_lexer": "ipython3",
   "version": "3.8.7"
  }
 },
 "nbformat": 4,
 "nbformat_minor": 4
}
